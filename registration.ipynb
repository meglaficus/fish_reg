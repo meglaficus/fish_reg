{
 "cells": [
  {
   "cell_type": "code",
   "execution_count": 12,
   "metadata": {},
   "outputs": [],
   "source": [
    "import SimpleITK as sitk\n",
    "import numpy as np\n",
    "import matplotlib.pyplot as plt\n",
    "from tqdm.notebook import tqdm\n",
    "import copy\n",
    "\n",
    "video_path = '2022_08_25_ 000001_AFW.tif'\n"
   ]
  },
  {
   "cell_type": "code",
   "execution_count": 24,
   "metadata": {},
   "outputs": [],
   "source": [
    "# Read video and decide on reference slice\n",
    "video = sitk.ReadImage(video_path)\n",
    "\n",
    "video_array = sitk.GetArrayFromImage(video)[:37]\n",
    "number_of_slices = video_array.shape[0]\n",
    "\n",
    "middle_slice = video_array[number_of_slices // 2]\n",
    "middle_img = sitk.GetImageFromArray(middle_slice)"
   ]
  },
  {
   "cell_type": "code",
   "execution_count": 25,
   "metadata": {},
   "outputs": [
    {
     "data": {
      "application/vnd.jupyter.widget-view+json": {
       "model_id": "5a17c270ccdc4f408cc9d6d65a3f5627",
       "version_major": 2,
       "version_minor": 0
      },
      "text/plain": [
       "Registering:   0%|          | 0/13 [00:00<?, ?it/s]"
      ]
     },
     "metadata": {},
     "output_type": "display_data"
    }
   ],
   "source": [
    "# Construct the elastix imag filter\n",
    "elastixImageFilter = sitk.ElastixImageFilter()\n",
    "elastixImageFilter.SetParameterMap(sitk.GetDefaultParameterMap(\"rigid\"))\n",
    "elastixImageFilter.SetFixedImage(middle_img)\n",
    "\n",
    "# Do registration for every third slice and save only the transformation parameters\n",
    "transform_params = np.zeros((number_of_slices, 3))\n",
    "\n",
    "for i in tqdm(range(0, len(video_array), 3), desc='Registering'):\n",
    "    elastixImageFilter.SetMovingImage(sitk.GetImageFromArray(video_array[i]))\n",
    "    elastixImageFilter.Execute()\n",
    "\n",
    "    param_map = elastixImageFilter.GetTransformParameterMap()[0]\n",
    "    transform_params[i] = ([float(i) for i in param_map['TransformParameters']])\n",
    "\n",
    "center_of_rotation = np.array([float(i) for i in param_map['CenterOfRotationPoint']])\n",
    "    "
   ]
  },
  {
   "cell_type": "code",
   "execution_count": 27,
   "metadata": {},
   "outputs": [
    {
     "name": "stdout",
     "output_type": "stream",
     "text": [
      "0 [-4.57184e-04 -2.78732e-01  5.19902e-01]\n",
      "6 [-3.40015e-04 -2.10274e-01  3.79180e-01]\n",
      "\n",
      "37\n",
      "6 [-3.40015e-04 -2.10274e-01  3.79180e-01]\n",
      "12 [-1.13317e-04 -8.27242e-02  1.63113e-01]\n",
      "\n",
      "31\n",
      "12 [-1.13317e-04 -8.27242e-02  1.63113e-01]\n",
      "18 [-0.00014882  0.003367    0.0139237 ]\n",
      "\n",
      "25\n",
      "18 [-0.00014882  0.003367    0.0139237 ]\n",
      "24 [ 0.00046787  0.064179   -0.142246  ]\n",
      "\n",
      "19\n",
      "24 [ 0.00046787  0.064179   -0.142246  ]\n",
      "30 [ 0.00039423  0.132324   -0.28687   ]\n",
      "\n",
      "13\n",
      "30 [ 0.00039423  0.132324   -0.28687   ]\n",
      "36 [ 3.74436e-04  2.35016e-01 -4.46391e-01]\n",
      "\n",
      "just made it\n",
      "3 [-3.20198e-04 -2.40269e-01  4.56010e-01]\n",
      "9 [-1.37022e-04 -1.21006e-01  2.52279e-01]\n",
      "\n",
      "34\n",
      "9 [-1.37022e-04 -1.21006e-01  2.52279e-01]\n",
      "15 [-9.51813e-05 -4.85781e-02  1.33713e-01]\n",
      "\n",
      "28\n",
      "15 [-9.51813e-05 -4.85781e-02  1.33713e-01]\n",
      "21 [ 9.82092e-05  1.96145e-02 -4.55899e-02]\n",
      "\n",
      "22\n",
      "21 [ 9.82092e-05  1.96145e-02 -4.55899e-02]\n",
      "27 [ 1.63105e-04  1.14123e-01 -2.20652e-01]\n",
      "\n",
      "16\n",
      "27 [ 1.63105e-04  1.14123e-01 -2.20652e-01]\n",
      "33 [ 1.11010e-04  2.18522e-01 -3.62624e-01]\n",
      "\n",
      "10\n",
      "finnishing early\n"
     ]
    }
   ],
   "source": [
    "# Extract two arrays of parameters, each with every sixth image filled and a faze shift of 3 images\n",
    "first_transform_array = np.empty(transform_params.shape)\n",
    "second_transform_array = np.empty(transform_params.shape)\n",
    "\n",
    "first_transform_array[:] = np.nan\n",
    "second_transform_array[:] = np.nan\n",
    "\n",
    "\n",
    "for i in range(0, len(transform_params), 3):\n",
    "    if i % 6 == 0:\n",
    "        first_transform_array[i] = transform_params[i]\n",
    "    else:\n",
    "        second_transform_array[i] = transform_params[i]\n",
    "    \n",
    "\n",
    "# Interpolate in between the set parameters\n",
    "def fill_out_array(array0, start, period):\n",
    "    \n",
    "    array = copy.deepcopy(array0)\n",
    "    \n",
    "    if start != 0:\n",
    "        inter_array = np.zeros((start, 3))\n",
    "        first = array[start]\n",
    "        second = array[start + period]\n",
    "        \n",
    "        \n",
    "        \n",
    "        for j in range(start):\n",
    "            inter_array[start - j - 1] = first - (second - first) * ((j+1) / period)\n",
    "                \n",
    "        array[:start] = inter_array\n",
    "    \n",
    "    for i in range(start, len(transform_params), period):\n",
    "    \n",
    "            \n",
    "        first = array[i]\n",
    "        second = array[i+period]\n",
    "        inter_array = np.zeros((period - 1, 3))\n",
    "        \n",
    "        for j in range(period-1):\n",
    "            inter_array[j] = first + (second - first) * ((j + 1) / period)\n",
    "        \n",
    "        array[i+1:i+period] = inter_array\n",
    "        \n",
    "        # To handle the end of the array\n",
    "        if len(transform_params) - i == period + 1:\n",
    "            break\n",
    "        \n",
    "        if len(transform_params) - i <= 2 * period:\n",
    "            \n",
    "            remainder = len(transform_params) - i - period - 1\n",
    "            inter_array = np.zeros((remainder, 3))\n",
    "            \n",
    "            for j in range(remainder):\n",
    "                inter_array[j] = second + (second - first) * ((j+1) / period)\n",
    "                \n",
    "            array[i+period + 1:] = inter_array\n",
    "            \n",
    "            break\n",
    "        \n",
    "    return array\n",
    "\n",
    "# Execute interpolation and combine by taking the mean\n",
    "first_transform_array = fill_out_array(first_transform_array, 0, 6)\n",
    "second_transform_array = fill_out_array(second_transform_array, 3, 6)\n",
    "\n",
    "total_transform_array = (first_transform_array + second_transform_array) / 2\n",
    "\n",
    "# Now perform median-smoothing\n",
    "smooth_transform_array = copy.deepcopy(total_transform_array)\n",
    "\n",
    "for i in range(5, len(total_transform_array) - 5):\n",
    "    smooth_transform_array[i] = np.median(total_transform_array[i-5:i+6], axis=0)"
   ]
  },
  {
   "cell_type": "code",
   "execution_count": 29,
   "metadata": {},
   "outputs": [
    {
     "data": {
      "text/plain": [
       "array([[-4.11786000e-04, -2.99900500e-01,  5.57875500e-01],\n",
       "       [-3.81256667e-04, -2.80023333e-01,  5.23920333e-01],\n",
       "       [-3.50727333e-04, -2.60146167e-01,  4.89965167e-01],\n",
       "       [-3.20198000e-04, -2.40269000e-01,  4.56010000e-01],\n",
       "       [-2.89668667e-04, -2.20391833e-01,  4.22054833e-01],\n",
       "       [-2.59139333e-04, -2.00514667e-01,  3.88099667e-01],\n",
       "       [-2.28610000e-04, -1.80637500e-01,  3.54144500e-01],\n",
       "       [-1.98080667e-04, -1.60760333e-01,  3.20189333e-01],\n",
       "       [-1.67551333e-04, -1.40883167e-01,  2.86234167e-01],\n",
       "       [-1.37022000e-04, -1.21006000e-01,  2.52279000e-01],\n",
       "       [-1.30048550e-04, -1.08934683e-01,  2.32518000e-01],\n",
       "       [-1.23075100e-04, -9.68633667e-02,  2.12757000e-01],\n",
       "       [-1.16101650e-04, -8.47920500e-02,  1.92996000e-01],\n",
       "       [-1.09128200e-04, -7.27207333e-02,  1.73235000e-01],\n",
       "       [-1.02154750e-04, -6.06494167e-02,  1.53474000e-01],\n",
       "       [-9.51813000e-05, -4.85781000e-02,  1.33713000e-01],\n",
       "       [-6.29495500e-05, -3.72126667e-02,  1.03829183e-01],\n",
       "       [-3.07178000e-05, -2.58472333e-02,  7.39453667e-02],\n",
       "       [ 1.51395000e-06, -1.44818000e-02,  4.40615500e-02],\n",
       "       [ 3.37457000e-05, -3.11636667e-03,  1.41777333e-02],\n",
       "       [ 6.59774500e-05,  8.24906667e-03, -1.57060833e-02],\n",
       "       [ 9.82092000e-05,  1.96145000e-02, -4.55899000e-02],\n",
       "       [ 1.09025167e-04,  3.53659167e-02, -7.47669167e-02],\n",
       "       [ 1.19841133e-04,  5.11173333e-02, -1.03943933e-01],\n",
       "       [ 1.30657100e-04,  6.68687500e-02, -1.33120950e-01],\n",
       "       [ 1.41473067e-04,  8.26201667e-02, -1.62297967e-01],\n",
       "       [ 1.52289033e-04,  9.83715833e-02, -1.91474983e-01],\n",
       "       [ 1.63105000e-04,  1.14123000e-01, -2.20652000e-01],\n",
       "       [ 1.54422500e-04,  1.31522833e-01, -2.44314000e-01],\n",
       "       [ 1.45740000e-04,  1.48922667e-01, -2.67976000e-01],\n",
       "       [ 1.37057500e-04,  1.66322500e-01, -2.91638000e-01],\n",
       "       [ 1.28375000e-04,  1.83722333e-01, -3.15300000e-01],\n",
       "       [ 1.19692500e-04,  2.01122167e-01, -3.38962000e-01],\n",
       "       [ 1.11010000e-04,  2.18522000e-01, -3.62624000e-01],\n",
       "       [ 1.02327500e-04,  2.35921833e-01, -3.86286000e-01],\n",
       "       [ 9.36450000e-05,  2.53321667e-01, -4.09948000e-01],\n",
       "       [ 8.49625000e-05,  2.70721500e-01, -4.33610000e-01]])"
      ]
     },
     "execution_count": 29,
     "metadata": {},
     "output_type": "execute_result"
    }
   ],
   "source": [
    "second_transform_array"
   ]
  },
  {
   "cell_type": "code",
   "execution_count": null,
   "metadata": {},
   "outputs": [],
   "source": [
    "# Construct transform and resampler, then apply to video\n",
    "out_array = np.zeros(video_array.shape)\n",
    "\n",
    "transform = sitk.Euler2DTransform()\n",
    "transform.SetCenter(center_of_rotation)\n",
    "\n",
    "resampler = sitk.ResampleImageFilter()\n",
    "resampler.SetInterpolator(sitk.sitkLinear)\n",
    "\n",
    "for i in range(len(video_array)):\n",
    "    transform.SetTranslation(smooth_transform_array[i][1:3])\n",
    "    transform.SetAngle(smooth_transform_array[i][0])\n",
    "    \n",
    "    img = sitk.Resample(sitk.GetImageFromArray(video_array[i]),\n",
    "                  middle_img, \n",
    "                  transform,\n",
    "                  sitk.sitkLinear, \n",
    "                  0.0)\n",
    "    out_array[i] = sitk.GetArrayFromImage(img)"
   ]
  },
  {
   "cell_type": "code",
   "execution_count": null,
   "metadata": {},
   "outputs": [],
   "source": [
    "out_image = sitk.GetImageFromArray(out_array)\n",
    "out_image.CopyInformation(video)\n",
    "\n",
    "out_image = sitk.Cast(out_image, video.GetPixelID())\n",
    "sitk.WriteImage(out_image, f'{video_path[:-4]}_fixed.tif')"
   ]
  }
 ],
 "metadata": {
  "kernelspec": {
   "display_name": "Python 3.9.7 ('simpleIKT')",
   "language": "python",
   "name": "python3"
  },
  "language_info": {
   "codemirror_mode": {
    "name": "ipython",
    "version": 3
   },
   "file_extension": ".py",
   "mimetype": "text/x-python",
   "name": "python",
   "nbconvert_exporter": "python",
   "pygments_lexer": "ipython3",
   "version": "3.9.7"
  },
  "orig_nbformat": 4,
  "vscode": {
   "interpreter": {
    "hash": "e01cb1b1849864f1093416dc327a8ba5dcd07685802a620a2cb87341b867e19c"
   }
  }
 },
 "nbformat": 4,
 "nbformat_minor": 2
}
